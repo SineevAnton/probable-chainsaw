{
 "cells": [
  {
   "cell_type": "markdown",
   "metadata": {},
   "source": [
    "# <center>SOLAR POWER GENERATION DATA</center>\n",
    "___"
   ]
  },
  {
   "cell_type": "markdown",
   "metadata": {},
   "source": [
    "## <center>Solar power generation and sensor data for two power plants</center>\n",
    "___"
   ]
  },
  {
   "cell_type": "markdown",
   "metadata": {},
   "source": [
    "This job is taken from <a href = \"https://www.kaggle.com/anikannal/solar-power-generation-data\">www.kaggle.com</a>"
   ]
  },
  {
   "cell_type": "markdown",
   "metadata": {},
   "source": [
    "### <center>Tasks</center>"
   ]
  },
  {
   "cell_type": "markdown",
   "metadata": {},
   "source": [
    "#### Descriptive analytics\n",
    "<font size = 1>*Описательный анализ*</font>   \n",
    "\n",
    "Initial exploration of the dataset.   \n",
    "<font size = 1>*Первоначальное исследование набора данных*</font>   \n",
    "\n",
    "##### Task details   \n",
    "<font size = 1>Детали задания</font>\n",
    "1. Load the data from the CSV file   \n",
    "<font size = 1>Загрузите данные из CSV файла</font>\n",
    "2. Explore each dataset - columns, counts, basic stats   \n",
    "<font size = 1>Исследуйте каждый набор данных - колонки, вхождения, основные характеристики</font>\n",
    "3. Understand the domain context and explore underlying patterns in the data   \n",
    "<font size = 1>Оцените обстановку и исследуйте фундаментальные шаблоны данных (лежащие в основе данных паттерны)</font>\n",
    "4. Explore the data and try to answer questions like   \n",
    "<font size = 1>Исследуйте данные и постарайтесь ответить на такие вопросы, как</font>   \n",
    "   \n",
    "    - What is the mean value of daily yeld?   \n",
    "    <font size = 1>Какое среднее значение дневного поступления</font>\n",
    "    - What is the total irradiation per day?   \n",
    "    <font size = 1>Какое суммарное ежедневное облучение (излучение)</font>   \n",
    "    - What is the max ambient and module temperature?   \n",
    "    <font size = 1>Каковы максимальные внешние и внутренние температуры</font>\n",
    "    - How many inverters are there for each plant?   \n",
    "    <font size = 1>Как много преобразователей в каждой станции</font>\n",
    "    - What is the maximum/minimum amount of DC/AC power generated in a time interval/day?   \n",
    "    <font size = 1>Какое максимальное/минимальное суммарное количество энергии, производимое во временном интервале/за день</font>   \n",
    "    <font size = 1>Каково максимальное/минимальное количество энергии постоянного/переменного тока, генерируемой в течение временного интервала/дня</font>\n",
    "    - Which inverter (source_key) has produced maximum DC/AC power?   \n",
    "    <font size = 1>Какой преобразователь (основной источник) производит наибольшее количество постоянного/переменного тока</font>\n",
    "    - Rank the inverters based on the AC/DC power they produce   \n",
    "    <font size = 1>Категоризируйте инвенторы по типу производимого тока (переменного/постоянного)</font>\n",
    "    - Is there any missing data?   \n",
    "    <font size = 1>Есть ли пропуски в данных</font>\n",
    "    \n",
    "You might have to pre-process the data to allow for some of the analysis (hint: date and time)\n",
    "\n"
   ]
  },
  {
   "cell_type": "code",
   "execution_count": 1,
   "metadata": {},
   "outputs": [],
   "source": [
    "import pandas as pd"
   ]
  },
  {
   "cell_type": "markdown",
   "metadata": {},
   "source": [
    "Notes:   \n",
    "<font size = 1>примечания</font>   \n",
    "for convenience, the following abbreviations are used:   \n",
    "<font size = 1>для удобства используются следующие сокращения</font>\n",
    "\n",
    "- pl - plant;   \n",
    "- gd - generation data;\n",
    "- wsd - weather sensor data."
   ]
  },
  {
   "cell_type": "code",
   "execution_count": 2,
   "metadata": {},
   "outputs": [],
   "source": [
    "pl_1_gd = pd.read_csv(r'Plant_1_Generation_Data.csv')\n",
    "pl_1_wsd = pd.read_csv(r'Plant_1_Weather_Sensor_Data.csv')\n",
    "pl_2_gd = pd.read_csv(r'Plant_2_Generation_Data.csv')\n",
    "pl_2_wsd = pd.read_csv(r'Plant_2_Weather_Sensor_Data.csv')"
   ]
  },
  {
   "cell_type": "code",
   "execution_count": 3,
   "metadata": {},
   "outputs": [
    {
     "name": "stdout",
     "output_type": "stream",
     "text": [
      "<class 'pandas.core.frame.DataFrame'>\n",
      "RangeIndex: 68778 entries, 0 to 68777\n",
      "Data columns (total 7 columns):\n",
      " #   Column       Non-Null Count  Dtype  \n",
      "---  ------       --------------  -----  \n",
      " 0   DATE_TIME    68778 non-null  object \n",
      " 1   PLANT_ID     68778 non-null  int64  \n",
      " 2   SOURCE_KEY   68778 non-null  object \n",
      " 3   DC_POWER     68778 non-null  float64\n",
      " 4   AC_POWER     68778 non-null  float64\n",
      " 5   DAILY_YIELD  68778 non-null  float64\n",
      " 6   TOTAL_YIELD  68778 non-null  float64\n",
      "dtypes: float64(4), int64(1), object(2)\n",
      "memory usage: 3.7+ MB\n"
     ]
    }
   ],
   "source": [
    "pl_1_gd.info()"
   ]
  },
  {
   "cell_type": "code",
   "execution_count": 4,
   "metadata": {},
   "outputs": [
    {
     "name": "stdout",
     "output_type": "stream",
     "text": [
      "<class 'pandas.core.frame.DataFrame'>\n",
      "RangeIndex: 3182 entries, 0 to 3181\n",
      "Data columns (total 6 columns):\n",
      " #   Column               Non-Null Count  Dtype  \n",
      "---  ------               --------------  -----  \n",
      " 0   DATE_TIME            3182 non-null   object \n",
      " 1   PLANT_ID             3182 non-null   int64  \n",
      " 2   SOURCE_KEY           3182 non-null   object \n",
      " 3   AMBIENT_TEMPERATURE  3182 non-null   float64\n",
      " 4   MODULE_TEMPERATURE   3182 non-null   float64\n",
      " 5   IRRADIATION          3182 non-null   float64\n",
      "dtypes: float64(3), int64(1), object(2)\n",
      "memory usage: 149.3+ KB\n"
     ]
    }
   ],
   "source": [
    "pl_1_wsd.info()"
   ]
  },
  {
   "cell_type": "code",
   "execution_count": 5,
   "metadata": {},
   "outputs": [
    {
     "name": "stdout",
     "output_type": "stream",
     "text": [
      "<class 'pandas.core.frame.DataFrame'>\n",
      "RangeIndex: 67698 entries, 0 to 67697\n",
      "Data columns (total 7 columns):\n",
      " #   Column       Non-Null Count  Dtype  \n",
      "---  ------       --------------  -----  \n",
      " 0   DATE_TIME    67698 non-null  object \n",
      " 1   PLANT_ID     67698 non-null  int64  \n",
      " 2   SOURCE_KEY   67698 non-null  object \n",
      " 3   DC_POWER     67698 non-null  float64\n",
      " 4   AC_POWER     67698 non-null  float64\n",
      " 5   DAILY_YIELD  67698 non-null  float64\n",
      " 6   TOTAL_YIELD  67698 non-null  float64\n",
      "dtypes: float64(4), int64(1), object(2)\n",
      "memory usage: 3.6+ MB\n"
     ]
    }
   ],
   "source": [
    "pl_2_gd.info()"
   ]
  },
  {
   "cell_type": "code",
   "execution_count": 6,
   "metadata": {},
   "outputs": [
    {
     "name": "stdout",
     "output_type": "stream",
     "text": [
      "<class 'pandas.core.frame.DataFrame'>\n",
      "RangeIndex: 3259 entries, 0 to 3258\n",
      "Data columns (total 6 columns):\n",
      " #   Column               Non-Null Count  Dtype  \n",
      "---  ------               --------------  -----  \n",
      " 0   DATE_TIME            3259 non-null   object \n",
      " 1   PLANT_ID             3259 non-null   int64  \n",
      " 2   SOURCE_KEY           3259 non-null   object \n",
      " 3   AMBIENT_TEMPERATURE  3259 non-null   float64\n",
      " 4   MODULE_TEMPERATURE   3259 non-null   float64\n",
      " 5   IRRADIATION          3259 non-null   float64\n",
      "dtypes: float64(3), int64(1), object(2)\n",
      "memory usage: 152.9+ KB\n"
     ]
    }
   ],
   "source": [
    "pl_2_wsd.info()"
   ]
  },
  {
   "cell_type": "code",
   "execution_count": null,
   "metadata": {},
   "outputs": [],
   "source": []
  }
 ],
 "metadata": {
  "kernelspec": {
   "display_name": "Python 3",
   "language": "python",
   "name": "python3"
  },
  "language_info": {
   "codemirror_mode": {
    "name": "ipython",
    "version": 3
   },
   "file_extension": ".py",
   "mimetype": "text/x-python",
   "name": "python",
   "nbconvert_exporter": "python",
   "pygments_lexer": "ipython3",
   "version": "3.7.6"
  }
 },
 "nbformat": 4,
 "nbformat_minor": 4
}
